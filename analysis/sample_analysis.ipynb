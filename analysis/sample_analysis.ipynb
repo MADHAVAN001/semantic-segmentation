{
 "cells": [
  {
   "cell_type": "code",
   "execution_count": null,
   "metadata": {
    "collapsed": true
   },
   "outputs": [],
   "source": [
    "import yaml\n",
    "import os\n",
    "import numpy as np\n",
    "import cv2\n",
    "import math\n",
    "import matplotlib.pyplot as plt\n",
    "import matplotlib.image as mpimg\n",
    "import sys\n",
    "\n",
    "sys.path.append(\"..\")\n",
    "from keras.callbacks import EarlyStopping, ModelCheckpoint, ReduceLROnPlateau\n",
    "from keras.optimizers import Adam\n",
    "\n",
    "import dataloader.coco\n",
    "import models.fcn"
   ]
  },
  {
   "cell_type": "code",
   "execution_count": null,
   "outputs": [],
   "source": [
    "def load_coco_dataset(cfg):\n",
    "    training_data_generator = dataloader.coco.CocoDataGenerator(cfg, \"train\")\n",
    "    validation_data_generator = dataloader.coco.CocoDataGenerator(cfg, \"validate\")\n",
    "    classes = dataloader.coco.get_super_class(cfg)\n",
    "\n",
    "    return training_data_generator, validation_data_generator, classes"
   ],
   "metadata": {
    "collapsed": false,
    "pycharm": {
     "name": "#%%\n"
    }
   }
  },
  {
   "cell_type": "code",
   "execution_count": null,
   "outputs": [],
   "source": [
    "fp = open(\"../configs/coco_fcn.yaml\")\n",
    "cfg = yaml.load(fp)\n",
    "\n",
    "training_data_generator, validation_data_generator, classes = load_coco_dataset(cfg)\n",
    "\n",
    "classes_count = len(classes)\n",
    "\n",
    "img_width, img_height = training_data_generator.image_width, training_data_generator.image_height\n",
    "channels_count = training_data_generator.image_num_chans\n",
    "\n",
    "# Get the path for saving checkpoints\n",
    "checkpoint_path = \"../pretrained/fcn_weights.h5\""
   ],
   "metadata": {
    "collapsed": false,
    "pycharm": {
     "name": "#%%\n"
    }
   }
  },
  {
   "cell_type": "code",
   "execution_count": null,
   "outputs": [],
   "source": [
    "fcn = models.fcn.FCN()\n",
    "model = fcn.resnet50(input_shape=(img_width, img_height, channels_count), classes=classes_count)\n",
    "\n",
    "model.load_weights(checkpoint_path)"
   ],
   "metadata": {
    "collapsed": false,
    "pycharm": {
     "name": "#%%\n"
    }
   }
  },
  {
   "cell_type": "code",
   "execution_count": null,
   "outputs": [],
   "source": [
    "dataset_use = training_data_generator\n",
    "    \n",
    "path_fetch_output = dataset_use.labels_dir\n",
    "path_fetch_output = path_fetch_output  + \"/\"\n",
    "path_fetch_input = dataset_use.dataset_dir + \"/\"\n",
    "\n",
    "start_inference = 0\n",
    "end_inference = 50\n",
    "scale_factor = math.floor((255.0 / classes_count))\n",
    "\n",
    "files_input = os.listdir(path_fetch_input)\n",
    "files_input = files_input[start_inference:end_inference]\n",
    "\n",
    "for x in range(start_inference,end_inference,1):\n",
    "    files_output = files_input[x].replace(\".jpg\",\".jpg.npy\")\n",
    "    true_mask = np.load(path_fetch_output+files_output)\n",
    "    true_image = cv2.imread(path_fetch_input+files_input[x])\n",
    "    #Reshape to a tensor\n",
    "    true_image_pass = true_image.reshape(1,true_image.shape[0],true_image.shape[1],true_image.shape[2])\n",
    "    prediction = model.predict(true_image_pass, verbose = 1)\n",
    "    prediction = np.argmax(prediction, -1)\n",
    "    prediction = prediction[0,:,:]\n",
    "    \n",
    "    prediction = prediction * scale_factor\n",
    "    true_mask = true_mask * scale_factor\n",
    "    \n",
    "    \n",
    "    f, axarr = plt.subplots(1,3)\n",
    "    axarr[0].imshow(true_image)\n",
    "    axarr[1].imshow(true_mask)\n",
    "    axarr[2].imshow(prediction)\n",
    "    plt.show()"
   ],
   "metadata": {
    "collapsed": false,
    "pycharm": {
     "name": "#%%\n"
    }
   }
  }
 ],
 "metadata": {
  "language_info": {
   "codemirror_mode": {
    "name": "ipython",
    "version": 2
   },
   "file_extension": ".py",
   "mimetype": "text/x-python",
   "name": "python",
   "nbconvert_exporter": "python",
   "pygments_lexer": "ipython2",
   "version": "2.7.6"
  },
  "kernelspec": {
   "name": "python3",
   "language": "python",
   "display_name": "Python 3"
  },
  "pycharm": {
   "stem_cell": {
    "cell_type": "raw",
    "source": [],
    "metadata": {
     "collapsed": false
    }
   }
  }
 },
 "nbformat": 4,
 "nbformat_minor": 0
}