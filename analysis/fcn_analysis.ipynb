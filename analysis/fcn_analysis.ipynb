{
 "cells": [
  {
   "cell_type": "code",
   "execution_count": null,
   "metadata": {
    "collapsed": true
   },
   "outputs": [],
   "source": [
    "import os\n",
    "import sys\n",
    "\n",
    "import matplotlib.pyplot as plt\n",
    "import yaml\n",
    "\n",
    "sys.path.append(\"..\")\n",
    "\n",
    "from analysis.common import *"
   ]
  },
  {
   "cell_type": "code",
   "execution_count": null,
   "outputs": [],
   "source": [
    "fp = open(\"../configs/coco_fcn_analysis.yaml\")\n",
    "cfg = yaml.load(fp)\n",
    "\n",
    "validation_data_generator, classes = load_coco_dataset(cfg)\n",
    "\n",
    "classes_count = len(classes)\n",
    "\n",
    "img_width, img_height = validation_data_generator.image_width, validation_data_generator.image_height\n",
    "channels_count = validation_data_generator.image_num_chans\n",
    "\n",
    "checkpoint_path = \"../pretrained/fcn_weights.h5\""
   ],
   "metadata": {
    "collapsed": false,
    "pycharm": {
     "name": "#%%\n"
    }
   }
  },
  {
   "cell_type": "code",
   "execution_count": null,
   "outputs": [],
   "source": [
    "model = load_fcn_model(cfg, checkpoint_path, (img_width, img_height, channels_count), classes_count)"
   ],
   "metadata": {
    "collapsed": false,
    "pycharm": {
     "name": "#%%\n"
    }
   }
  },
  {
   "cell_type": "code",
   "execution_count": null,
   "outputs": [],
   "source": [
    "print(measure_validation_time(model, validation_data_generator))"
   ],
   "metadata": {
    "collapsed": false,
    "pycharm": {
     "name": "#%%\n"
    }
   }
  },
  {
   "cell_type": "code",
   "execution_count": null,
   "outputs": [],
   "source": [
    "start_inference = 0\n",
    "end_inference = 50\n",
    "\n",
    "files_input = os.listdir(validation_data_generator.dataset_dir+\"/\")\n",
    "files_input = files_input[start_inference:end_inference]\n",
    "\n",
    "for x in range(start_inference,end_inference,1):\n",
    "    true_image, true_mask, prediction = analyize_prediction(validation_data_generator, classes_count, model, files_input[x])\n",
    "    \n",
    "    f, axarr = plt.subplots(1,3)\n",
    "    axarr[0].imshow(true_image)\n",
    "    axarr[1].imshow(true_mask)\n",
    "    axarr[2].imshow(prediction)\n",
    "    plt.show()"
   ],
   "metadata": {
    "collapsed": false,
    "pycharm": {
     "name": "#%%\n"
    }
   }
  }
 ],
 "metadata": {
  "language_info": {
   "codemirror_mode": {
    "name": "ipython",
    "version": 2
   },
   "file_extension": ".py",
   "mimetype": "text/x-python",
   "name": "python",
   "nbconvert_exporter": "python",
   "pygments_lexer": "ipython2",
   "version": "2.7.6"
  },
  "kernelspec": {
   "name": "python3",
   "language": "python",
   "display_name": "Python 3"
  },
  "pycharm": {
   "stem_cell": {
    "cell_type": "raw",
    "source": [],
    "metadata": {
     "collapsed": false
    }
   }
  }
 },
 "nbformat": 4,
 "nbformat_minor": 0
}